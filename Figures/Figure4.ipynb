{
 "cells": [
  {
   "cell_type": "markdown",
   "metadata": {},
   "source": [
    "# Sharing of clonotypes between repertoires\n",
    "\n",
    "Here we will make the following figures:\n",
    "\n",
    "  * Venn diagram of shared clonotypes between animals (**Figure 4a**)\n",
    "  * Animal clonotypes shared with total human clonotype pool (**Figure 4b**)\n",
    "  * CDRH3 length distributions for shared and unshared fractions (**Figure 4c**)\n",
    "  * VH gene family usage for shared and unshared fractions (**Figure 4d**)\n",
    "  * Sequence logos of 8 amino acid long CDRH3s from shared and unshared fractions (**Figure 4e**)\n",
    "  * Sequence logos of 13 amino acid long CDRH3s from shared and unshared fractions (**Figure 4f**)\n",
    "  \n",
    "The raw data used to make these plots can be found [**here**](https://www.ncbi.nlm.nih.gov/bioproject/PRJNA592154).\n",
    "\n",
    "The following Python packages are required to run the code in this notebook:\n",
    "  * numpy\n",
    "  * pandas\n",
    "  * matplotlib\n",
    "  * seaborn\n",
    "  * weblogo\n",
    "\n",
    "They can be install by running `pip install numpy pandas matplotlib seaborn weblogo`"
   ]
  },
  {
   "cell_type": "code",
   "execution_count": 33,
   "metadata": {},
   "outputs": [],
   "source": [
    "import sys\n",
    "import os\n",
    "\n",
    "import itertools\n",
    "import multiprocessing as mp\n",
    "from collections import Counter\n",
    "import math\n",
    "\n",
    "import pandas as pd\n",
    "import numpy as np \n",
    "\n",
    "import matplotlib.pyplot as plt\n",
    "import matplotlib.patches\n",
    "import seaborn as sns\n",
    "\n",
    "from weblogo import read_seq_data, LogoData, LogoOptions, LogoFormat, pdf_formatter, png_print_formatter\n",
    "from weblogo.colorscheme import ColorScheme, IndexColor, SymbolColor\n",
    "\n",
    "%matplotlib inline"
   ]
  },
  {
   "cell_type": "code",
   "execution_count": 28,
   "metadata": {},
   "outputs": [],
   "source": [
    "def scale_and_normalize(df):\n",
    "    '''\n",
    "    This will scale the read counts for the samples \n",
    "    in the same way that DeSeq2 scales RNAseq reads\n",
    "    and then will perform global normalization.\n",
    "       - df input is a dataframe with read counts, \n",
    "         genes as rows, samples as columns.\n",
    "    '''\n",
    "    #First take the log of each read count\n",
    "    df_log = np.log(df)\n",
    "    \n",
    "    #Then calculate the geometric mean across rows\n",
    "    df_log['geometric mean'] = df_log.mean(axis=1)\n",
    "    \n",
    "    #Remove any genes that are not expressed by OmniRats\n",
    "    df_log = df_log[df_log['geometric mean'] != np.NINF]\n",
    "    \n",
    "    #Get rid of the geometric mean column\n",
    "    df_log = df_log.drop('geometric mean', 1)\n",
    "    \n",
    "    #Subtract each value from the mean of its columnn\n",
    "    df_log = df_log.sub(df_log.mean(axis=1), axis=0)\n",
    "    \n",
    "    #Calculate scaling factors\n",
    "    scaling_factors = []\n",
    "    for median in list(df_log.median()):\n",
    "        scaling_factors.append(math.exp(median))\n",
    "    \n",
    "    #Divide each column by the scaling factor\n",
    "    for i, col in enumerate(df.columns):\n",
    "        sf = scaling_factors[i]\n",
    "        df[col] = df[col]/sf\n",
    "        \n",
    "    #remove where there is no expression\n",
    "    #df = df[df.index.isin(df_log.index)]\n",
    "    \n",
    "    return df\n",
    "\n",
    "# returns color of line for LN, Spleen or Human\n",
    "def line_color(column):\n",
    "    if column == 'Shared':\n",
    "        return 'red'\n",
    "    else:\n",
    "        return 'blue'\n",
    "\n",
    "def step(x, ys, colors=None, labels=None, figfile=None, figsize=(8, 3), color=[0.3] * 3,\n",
    "                ylim=None, xlim=None, xtick_interval=1, linewidth=1.25, xlabel=None, show_legend=False):\n",
    "    \n",
    "    sns.set_style('white')\n",
    "\n",
    "    # set some reasonable defaults (if not provided)\n",
    "    if xlim is None:\n",
    "        xlim = (-0.5, len(xs))\n",
    "    if ylim is None:\n",
    "        ylim = (0, 1.1 * max([max(y) for y in ys]))\n",
    "    if colors is None:\n",
    "        colors = sns.color_palette('muted', len(ys))\n",
    "    if labels is None:\n",
    "        labels = [None] * len(ys)\n",
    "\n",
    "    # plot the data\n",
    "    plt.figure(figsize=figsize)\n",
    "    for y, color, label in zip(ys, colors, labels):\n",
    "        plot = plt.step(x, y, where='mid', color=color, linewidth=linewidth, label=label)\n",
    "        plt.fill_between(x, y, step='mid', color=color, alpha=0.2)\n",
    "\n",
    "    # axis labels and ticks\n",
    "    ax = plt.gca()\n",
    "    ax.set_ylabel('Frequency', size=14, labelpad=8)\n",
    "    if xlabel is not None:\n",
    "        ax.set_xlabel(xlabel, size=14, labelpad=8)\n",
    "    plt.xticks(x[::xtick_interval], x[::xtick_interval], size='medium')\n",
    "    ax.tick_params(axis='x', which='major', labelsize=12)\n",
    "    ax.tick_params(axis='y', which='major', labelsize=12, length=6, width=1.25, pad=12, right=False)\n",
    "    \n",
    "    # hide top, left and right spines\n",
    "    ax.spines['top'].set_visible(False)\n",
    "    ax.spines['right'].set_visible(False)\n",
    "    ax.spines['left'].set_visible(False)\n",
    "\n",
    "    # axis limits\n",
    "    ax.set_xlim(xlim)\n",
    "    if ylim is not None:\n",
    "        ax.set_ylim(ylim)\n",
    "    \n",
    "    # legend\n",
    "    if show_legend:\n",
    "        plt.legend(fontsize=12, handlelength=1)\n",
    "    \n",
    "    # save or show\n",
    "    plt.tight_layout()\n",
    "    if figfile is not None:\n",
    "        plt.savefig(figfile, dpi=800)\n",
    "    else:\n",
    "        plt.show()\n",
    "\n",
    "def mean_from_agg(values, freqs):\n",
    "    values = np.array(values)\n",
    "    freqs = np.array(freqs)\n",
    "    arg_sorted = np.argsort(values)\n",
    "    values = values[arg_sorted]\n",
    "    freqs = freqs[arg_sorted]\n",
    "    count = freqs.sum()\n",
    "    fx = values * freqs\n",
    "    mean = fx.sum() / count\n",
    "    return mean"
   ]
  },
  {
   "cell_type": "markdown",
   "metadata": {},
   "source": [
    "## Venn diagram of shared clonotypes between animals\n",
    "\n",
    "To visualize the frequency of shared clonotypes between animals."
   ]
  },
  {
   "cell_type": "code",
   "execution_count": 29,
   "metadata": {},
   "outputs": [],
   "source": [
    "colors = sns.hls_palette(6, l=.6)\n",
    "colors2 = sns.hls_palette(6, l=.3)"
   ]
  },
  {
   "cell_type": "code",
   "execution_count": 34,
   "metadata": {},
   "outputs": [
    {
     "data": {
      "image/png": "[encoded data removed]",
      "text/plain": [
       "<Figure size 576x576 with 1 Axes>"
      ]
     },
     "metadata": {},
     "output_type": "display_data"
    }
   ],
   "source": [
    "plt.figure(figsize=(8,8))\n",
    "delta = 45.0  # degrees\n",
    "\n",
    "angles = np.arange(0, 360 + delta, delta)\n",
    "ells = []\n",
    "ells.append(matplotlib.patches.Ellipse((-.5, -.5), 3, 3, 0, linewidth=3, color=colors[1], linestyle='-'))\n",
    "ells.append(matplotlib.patches.Ellipse((.5, -.5), 3, 3, 0, linewidth=3, color=colors[2], linestyle='-'))\n",
    "ells.append(matplotlib.patches.Ellipse((0, 0.5), 3, 3, 0, linewidth=3, color=colors[0], linestyle='-'))\n",
    "\n",
    "a = plt.subplot(111, aspect='equal')\n",
    "\n",
    "\n",
    "for e in ells:\n",
    "    e.set_clip_box(a.bbox)\n",
    "    e.set_alpha(0.15)\n",
    "    a.add_artist(e)\n",
    "\n",
    "a.tick_params(axis=u'both', which=u'both',length=0)\n",
    "\n",
    "#plt.text(-1.75, 1.75, 'OR1', weight='bold', rotation=45, ha='center', color=colors2[3])\n",
    "plt.text(0, 1.8, 'OR1', weight='bold', rotation=0, ha='center', color=colors2[0])\n",
    "plt.text(1.45, -1.45, 'OR3', weight='bold', rotation=45, ha='center', color=colors2[2])\n",
    "plt.text(-1.45, -1.45, 'OR2', weight='bold', rotation=-45, ha='center', color=colors2[1])\n",
    "\n",
    "plt.text(0, -0.1, '4.90%', ha='center', size=14, weight='bold')\n",
    "plt.text(0, 1, '97.0%', ha='center', color='black', size=7.5)\n",
    "plt.text(-1.2, -0.6, '96.0%', ha='center', rotation=-60, color='black', size=7.5)\n",
    "plt.text(1.2, -0.6, '96.4%', ha='center', rotation=60, color='black', size=7.5)\n",
    "plt.text(0, -1.15, '9.61%', ha='center', color='black', size=7.5)\n",
    "plt.text(-.8, 0.5, '8.72%', ha='center', rotation=60, color='black', size=7.5)\n",
    "plt.text(.8, 0.5, '9.63%', ha='center', rotation=-60, color='black', size=7.5)\n",
    "\n",
    "a.spines['top'].set_visible(False)\n",
    "a.spines['right'].set_visible(False)\n",
    "a.spines['left'].set_visible(False)\n",
    "a.spines['bottom'].set_visible(False)\n",
    "a.axes.get_xaxis().set_visible(False)\n",
    "a.axes.get_yaxis().set_visible(False)\n",
    "\n",
    "plt.xlim(-4, 4)\n",
    "plt.ylim(-4, 4)\n",
    "plt.tight_layout()\n",
    "plt.savefig('./figures/figure4a', dpi=800)\n",
    "plt.show()"
   ]
  },
  {
   "cell_type": "markdown",
   "metadata": {},
   "source": [
    "## Animal clonotypes shared with total human clonotype pool\n",
    "\n",
    "To visualize the frequency of OmniRat clonotypes shared with humans."
   ]
  },
  {
   "cell_type": "code",
   "execution_count": 11,
   "metadata": {},
   "outputs": [],
   "source": [
    "percent_shared = []\n",
    "percent_shared.append({'Comparison': 'OR1', 'Percent Shared': 73765 / 557329, 'x': ' '})\n",
    "percent_shared.append({'Comparison': 'OR2', 'Percent Shared': 97280 / 711227, 'x': ' '})\n",
    "percent_shared.append({'Comparison': 'OR3', 'Percent Shared': 117738 / 989793, 'x': ' '})\n",
    "percent_shared.append({'Comparison': 'OR Pool', 'Percent Shared': 291233 / 2115055, 'x': ' '})\n",
    "\n",
    "df = pd.DataFrame(percent_shared)"
   ]
  },
  {
   "cell_type": "code",
   "execution_count": 12,
   "metadata": {},
   "outputs": [
    {
     "data": {
      "image/png": "[encoded data removed]",
      "text/plain": [
       "<Figure size 216x432 with 1 Axes>"
      ]
     },
     "metadata": {},
     "output_type": "display_data"
    }
   ],
   "source": [
    "plt.figure(figsize=(3,6))\n",
    "ax = sns.stripplot(data=df, x='x', y='Percent Shared', hue='Comparison',linewidth=2,edgecolor=colors2, palette=colors2, s=15, jitter=True, alpha=0.6)\n",
    "\n",
    "ax.set_ylabel('Frequency', size=16, labelpad=8)\n",
    "ax.set_xlabel('Clonotypes Shared\\n with Human Pool', size=16, labelpad=8)\n",
    "#ax.tick_params(axis='x', which='major', labelsize=12)\n",
    "ax.tick_params(axis='y', which='major', labelsize=12, length=6, width=1.25, pad=12, right=False)\n",
    "\n",
    "legend = plt.legend(fontsize=15, bbox_to_anchor=(1, 1.05), markerscale=1.5, handletextpad=-.1)\n",
    "legend.get_frame().set_linewidth(0.0)\n",
    "for lh in legend.legendHandles: \n",
    "    lh.set_alpha(0.6)\n",
    "for i, text in enumerate(legend.get_texts()):\n",
    "    plt.setp(text, color = colors2[i])\n",
    "# hide top, left and right spines\n",
    "ax.spines['top'].set_visible(False)\n",
    "ax.spines['right'].set_visible(False)\n",
    "ax.spines['left'].set_visible(False)\n",
    "ax.set_xticks([])\n",
    "\n",
    "# axis limits\n",
    "ax.set_ylim([0.1,0.15])\n",
    "\n",
    "plt.savefig('./figures/figure4b', dpi=800, bbox_inches = \"tight\")\n",
    "plt.show()"
   ]
  },
  {
   "cell_type": "markdown",
   "metadata": {},
   "source": [
    "## CDRH3 length distributions for shared and unshared fractions\n"
   ]
  },
  {
   "cell_type": "code",
   "execution_count": 37,
   "metadata": {},
   "outputs": [],
   "source": [
    "shared_vgenes = []\n",
    "shared_jgenes = []\n",
    "shared_cdr3aa = []\n",
    "unshared_vgenes = []\n",
    "unshared_jgenes = []\n",
    "unshared_cdr3aa = []\n",
    "\n",
    "with open('../Data/ORS-humans-shared.csv') as file:\n",
    "    for line in file.readlines():\n",
    "        vjcdr3aa = line.split(' ')\n",
    "        shared_vgenes.append(vjcdr3aa[0])\n",
    "        shared_jgenes.append(vjcdr3aa[1])\n",
    "        shared_cdr3aa.append(vjcdr3aa[2])\n",
    "\n",
    "with open('../Data/ORS-humans-unshared.csv') as file:\n",
    "    for line in file.readlines():\n",
    "        vjcdr3aa = line.split(' ')\n",
    "        unshared_vgenes.append(vjcdr3aa[0])\n",
    "        unshared_jgenes.append(vjcdr3aa[1])\n",
    "        unshared_cdr3aa.append(vjcdr3aa[2])"
   ]
  },
  {
   "cell_type": "code",
   "execution_count": 38,
   "metadata": {},
   "outputs": [],
   "source": [
    "cdr3_8aa_shared = [cdr3 for cdr3 in shared_cdr3aa if len(cdr3) == 9]\n",
    "cdr3_8aa_unshared = [cdr3 for cdr3 in unshared_cdr3aa if len(cdr3) == 9]\n",
    "\n",
    "cdr3_13aa_shared = [cdr3 for cdr3 in shared_cdr3aa if len(cdr3) == 14]\n",
    "cdr3_13aa_unshared = [cdr3 for cdr3 in unshared_cdr3aa if len(cdr3) == 14]\n",
    "\n",
    "shared_lens = [len(cdr3) for cdr3 in shared_cdr3aa]\n",
    "unshared_lens = [len(cdr3) for cdr3 in unshared_cdr3aa]\n",
    "\n",
    "cdr3_lens = {}\n",
    "cdr3_lens['Shared'] = dict(Counter(shared_lens))\n",
    "cdr3_lens['Unshared'] = dict(Counter(unshared_lens))\n",
    "\n",
    "cdr3len_df = pd.DataFrame(cdr3_lens).fillna(0)"
   ]
  },
  {
   "cell_type": "code",
   "execution_count": 39,
   "metadata": {},
   "outputs": [
    {
     "name": "stderr",
     "output_type": "stream",
     "text": [
      "/gpfs/ims/home/cjoyce/tools/anaconda3/lib/python3.6/site-packages/ipykernel_launcher.py:10: RuntimeWarning: divide by zero encountered in log\n",
      "  # Remove the CWD from sys.path while we load stuff.\n"
     ]
    }
   ],
   "source": [
    "# Combine rat and human DFs\n",
    "rat_and_human_df = cdr3len_df\n",
    "\n",
    "# Scale and normalize the data\n",
    "norm_cdrh3_df = scale_and_normalize(rat_and_human_df)\n",
    "\n",
    "# Calculate the frequencies for each length\n",
    "norm_average_cdrh3_df = norm_cdrh3_df / norm_cdrh3_df.sum()"
   ]
  },
  {
   "cell_type": "code",
   "execution_count": 40,
   "metadata": {},
   "outputs": [
    {
     "data": {
      "image/png": "[encoded data removed]",
      "text/plain": [
       "<Figure size 360x216 with 1 Axes>"
      ]
     },
     "metadata": {},
     "output_type": "display_data"
    }
   ],
   "source": [
    "norm_average_cdrh3_values = norm_average_cdrh3_df.index.values\n",
    "labels = norm_average_cdrh3_df.columns.values\n",
    "ys = [list(norm_average_cdrh3_df[l]) for l in labels]\n",
    "colors = ['r', 'k']\n",
    "\n",
    "step(norm_average_cdrh3_values, ys, colors=colors, labels=labels, xlim=[1, 30], xtick_interval=2,\n",
    "     figsize=(5, 3), linewidth=1.5, xlabel='CDR3 length (IMGT)', show_legend=False,\n",
    "     figfile='./figures/figure4c'\n",
    "    )"
   ]
  },
  {
   "cell_type": "markdown",
   "metadata": {},
   "source": [
    "## VH gene family usage for shared and unshared fractions"
   ]
  },
  {
   "cell_type": "code",
   "execution_count": 26,
   "metadata": {},
   "outputs": [],
   "source": [
    "vgene_data = {}\n",
    "vgene_data['Shared']= dict(Counter(shared_vgenes))\n",
    "vgene_data['Unshared']= dict(Counter(unshared_vgenes))\n",
    "\n",
    "shared_vgenes_family = [vg.split('-')[0].replace('IGHV', 'VH') for vg in shared_vgenes]\n",
    "unshared_vgenes_family = [vg.split('-')[0].replace('IGHV', 'VH') for vg in unshared_vgenes]\n",
    "\n",
    "vfams = {}\n",
    "vfams['Shared'] = dict(Counter(shared_vgenes_family))\n",
    "vfams['Unshared'] = dict(Counter(unshared_vgenes_family))\n",
    "\n",
    "vfam_df = pd.DataFrame(vfams)\n",
    "vfam_df = vfam_df/vfam_df.sum()\n",
    "vfam_df = vfam_df.reset_index().melt(id_vars='index',value_name='Count', var_name='property')"
   ]
  },
  {
   "cell_type": "code",
   "execution_count": 36,
   "metadata": {},
   "outputs": [
    {
     "data": {
      "image/png": "[encoded data removed]",
      "text/plain": [
       "<Figure size 324x216 with 1 Axes>"
      ]
     },
     "metadata": {},
     "output_type": "display_data"
    }
   ],
   "source": [
    "plt.figure(figsize=(4.5,3))\n",
    "ax = sns.barplot(data=vfam_df, x='index', y='Count', hue='property', dodge=True, palette=['#FFCCCC', '#CCCCCC'],\n",
    "                 linewidth=2.5, capsize=.2)\n",
    "ax.set_ylabel('Frequency', size=14, labelpad=8)\n",
    "ax.set_xlabel(' ', size=14, labelpad=8)\n",
    "ax.tick_params(axis='x', which='major', labelsize=12)\n",
    "ax.tick_params(axis='y', which='major', labelsize=12, length=6, width=1.25, pad=12, right=False)\n",
    "edgeclrs = ['r']*7 + ['k']*7\n",
    "for i, ipatch in enumerate(ax.patches):\n",
    "    clr=edgeclrs[i]\n",
    "    ipatch.set_edgecolor(clr)\n",
    "\n",
    "plt.legend(fontsize=12, handlelength=1, bbox_to_anchor=(1.05, 1.05))\n",
    "# hide top, left and right spines\n",
    "ax.spines['top'].set_visible(False)\n",
    "ax.spines['right'].set_visible(False)\n",
    "ax.spines['left'].set_visible(False)\n",
    "\n",
    "# axis limits\n",
    "#ax.set_ylim([0,0.4])\n",
    "\n",
    "# save or show\n",
    "plt.tight_layout()\n",
    "plt.savefig('./figures/figure4d', dpi=800)\n",
    "plt.show()"
   ]
  },
  {
   "cell_type": "markdown",
   "metadata": {},
   "source": [
    "## Sequence logos of 8 amino acid long CDRH3s from shared and unshared fractions"
   ]
  },
  {
   "cell_type": "code",
   "execution_count": 41,
   "metadata": {},
   "outputs": [],
   "source": [
    "cdr3_8aa_shared_file = '../Data/cdr3_8aa_shared.fasta'\n",
    "with open(cdr3_8aa_shared_file, 'w') as file:\n",
    "    for i, seq in enumerate(cdr3_8aa_shared):\n",
    "        s = seq.split('\\n')[0]\n",
    "        file.write('>Seq{}\\n{}\\n'.format(i,s))\n",
    "\n",
    "cdr3_8aa_unshared_file = '../Data/cdr3_8aa_unshared.fasta'\n",
    "with open(cdr3_8aa_unshared_file, 'w') as file:\n",
    "    for i, seq in enumerate(cdr3_8aa_unshared):\n",
    "        s = seq.split('\\n')[0]\n",
    "        file.write('>Seq{}\\n{}\\n'.format(i,s))"
   ]
  },
  {
   "cell_type": "code",
   "execution_count": 42,
   "metadata": {},
   "outputs": [],
   "source": [
    "opts_kwargs = {'unit_name': 'probability',\n",
    "               'show_xaxis': False,\n",
    "               'show_yaxis': False,\n",
    "               'show_fineprint': False,\n",
    "               'stack_aspect_ratio': 3}\n",
    "\n",
    "rules_8AA = [IndexColor(range(3), '#C0C0C0'),\n",
    "             IndexColor(range(5, 8), '#C0C0C0'),\n",
    "             SymbolColor(\"GSTYC\", \"green\", \"polar\"),\n",
    "             SymbolColor(\"NQ\", \"purple\", \"neutral\"),\n",
    "             SymbolColor(\"KRH\", \"blue\", \"basic\"),\n",
    "             SymbolColor(\"DE\", \"red\", \"acidic\"),\n",
    "             SymbolColor(\"PAWFLIMV\", \"black\", \"hydrophobic\")]\n",
    "\n",
    "colorscheme_8AA = ColorScheme(rules_8AA)\n",
    "\n",
    "options = LogoOptions(**opts_kwargs)\n",
    "options.color_scheme = colorscheme_8AA"
   ]
  },
  {
   "cell_type": "code",
   "execution_count": 43,
   "metadata": {},
   "outputs": [],
   "source": [
    "files_8AA = {'Shared': cdr3_8aa_shared_file,\n",
    "             'Unshared': cdr3_8aa_unshared_file}\n",
    "\n",
    "for prefix, seq_file in files_8AA.items():\n",
    "    with open(seq_file) as f:\n",
    "        seqs = read_seq_data(f)\n",
    "        data = LogoData.from_seqs(seqs)\n",
    "        fmt = LogoFormat(data, options)\n",
    "        eps = png_print_formatter(data, fmt)\n",
    "        with open('./figures/figure4e{}_8AA_weblogo.png'.format(prefix), 'wb') as eps_file:\n",
    "            eps_file.write(eps)"
   ]
  },
  {
   "cell_type": "markdown",
   "metadata": {},
   "source": [
    "## Sequence logos of 13 amino acid long CDRH3s from shared and unshared fractions"
   ]
  },
  {
   "cell_type": "code",
   "execution_count": 44,
   "metadata": {},
   "outputs": [],
   "source": [
    "cdr3_13aa_shared_file = '../Data/cdr3_13aa_shared.fasta'\n",
    "with open(cdr3_13aa_shared_file, 'w') as file:\n",
    "    for i, seq in enumerate(cdr3_13aa_shared):\n",
    "        s = seq.split('\\n')[0]\n",
    "        file.write('>Seq{}\\n{}\\n'.format(i,s))\n",
    "\n",
    "cdr3_13aa_unshared_file = '../Data/cdr3_13aa_unshared.fasta'\n",
    "with open(cdr3_13aa_unshared_file, 'w') as file:\n",
    "    for i, seq in enumerate(cdr3_13aa_unshared):\n",
    "        s = seq.split('\\n')[0]\n",
    "        file.write('>Seq{}\\n{}\\n'.format(i,s))"
   ]
  },
  {
   "cell_type": "code",
   "execution_count": 45,
   "metadata": {},
   "outputs": [],
   "source": [
    "rules_13AA = [IndexColor(range(3), '#C0C0C0'),\n",
    "              IndexColor(range(10, 13), '#C0C0C0'),\n",
    "              SymbolColor(\"GSTYC\", \"green\", \"polar\"),\n",
    "              SymbolColor(\"NQ\", \"purple\", \"neutral\"),\n",
    "              SymbolColor(\"KRH\", \"blue\", \"basic\"),\n",
    "              SymbolColor(\"DE\", \"red\", \"acidic\"),\n",
    "              SymbolColor(\"PAWFLIMV\", \"black\", \"hydrophobic\")]\n",
    "\n",
    "colorscheme_13AA = ColorScheme(rules_13AA)\n",
    "\n",
    "options = LogoOptions(**opts_kwargs)\n",
    "options.color_scheme = colorscheme_13AA"
   ]
  },
  {
   "cell_type": "code",
   "execution_count": 46,
   "metadata": {},
   "outputs": [],
   "source": [
    "files_13AA = {'Shared': cdr3_13aa_shared_file,\n",
    "             'Unshared': cdr3_13aa_unshared_file}"
   ]
  },
  {
   "cell_type": "code",
   "execution_count": 47,
   "metadata": {},
   "outputs": [],
   "source": [
    "for prefix, seq_file in files_13AA.items():\n",
    "    with open(seq_file) as f:\n",
    "        seqs = read_seq_data(f)\n",
    "        data = LogoData.from_seqs(seqs)\n",
    "        fmt = LogoFormat(data, options)\n",
    "        eps = png_print_formatter(data, fmt)\n",
    "        with open('./figures/figure4e{}_13AA_weblogo.png'.format(prefix), 'wb') as eps_file:\n",
    "            eps_file.write(eps)"
   ]
  }
 ],
 "metadata": {
  "kernelspec": {
   "display_name": "Python 3",
   "language": "python",
   "name": "python3"
  },
  "language_info": {
   "codemirror_mode": {
    "name": "ipython",
    "version": 3
   },
   "file_extension": ".py",
   "mimetype": "text/x-python",
   "name": "python",
   "nbconvert_exporter": "python",
   "pygments_lexer": "ipython3",
   "version": "3.6.4"
  }
 },
 "nbformat": 4,
 "nbformat_minor": 2
}
