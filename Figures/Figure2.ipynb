{
 "cells": [
  {
   "cell_type": "markdown",
   "metadata": {},
   "source": [
    "# Differences in CDRH3\n",
    "\n",
    "Here we will make the following figures:\n",
    "\n",
    "  * CDRH3 length distribution (**Figure 1a**)\n",
    "  * N1 length distribution (**Figure 1b**)\n",
    "  * N2 length distribution (**Figure 1c**)\n",
    "  * D3-J6 frequencies (**Figure 1d**)\n",
    "  * Native D gene lengths (**Figure 1e**)\n",
    "  * Frequency of given CDRH3 length or longer (**Figure 1f**)\n",
    "  \n",
    "  \n",
    "The raw data used to make these plots can be found [**here**](https://www.ncbi.nlm.nih.gov/bioproject/PRJNA592154).\n",
    "\n",
    "The following Python packages are required to run the code in this notebook:\n",
    "  * numpy\n",
    "  * pandas\n",
    "  * scipy\n",
    "  * matplotlib\n",
    "  * seaborn\n",
    "  * biopython\n",
    "  * [abutils](https://www.github.com/briney/abutils)\n",
    "\n",
    "They can be install by running `pip install numpy pandas scipy matplotlib seaborn biopython abutils`"
   ]
  },
  {
   "cell_type": "code",
   "execution_count": 1,
   "metadata": {},
   "outputs": [],
   "source": [
    "import itertools\n",
    "import os\n",
    "import sys\n",
    "\n",
    "import math\n",
    "import numpy as np\n",
    "import scipy\n",
    "import pandas as pd\n",
    "\n",
    "import matplotlib.pyplot as plt\n",
    "import seaborn as sns\n",
    "\n",
    "from Bio import SeqIO\n",
    "#from abutils.utils import mongodb\n",
    "#from abutils.utils import color\n",
    "\n",
    "%matplotlib inline"
   ]
  },
  {
   "cell_type": "code",
   "execution_count": 24,
   "metadata": {},
   "outputs": [],
   "source": [
    "def scale_and_normalize(df):\n",
    "    '''\n",
    "    This will scale the read counts for the samples \n",
    "    in the same way that DeSeq2 scales RNAseq reads\n",
    "    and then will perform global normalization.\n",
    "       - df input is a dataframe with read counts, \n",
    "         genes as rows, samples as columns.\n",
    "    '''\n",
    "    #First take the log of each read count\n",
    "    df_log = np.log(df)\n",
    "    \n",
    "    #Then calculate the geometric mean across rows\n",
    "    df_log['geometric mean'] = df_log.mean(axis=1)\n",
    "    \n",
    "    #Remove any genes that are not expressed by OmniRats\n",
    "    df_log = df_log[df_log['geometric mean'] != np.NINF]\n",
    "    \n",
    "    #Get rid of the geometric mean column\n",
    "    df_log = df_log.drop('geometric mean', 1)\n",
    "    \n",
    "    #Subtract each value from the mean of its columnn\n",
    "    df_log = df_log.sub(df_log.mean(axis=1), axis=0)\n",
    "    \n",
    "    #Calculate scaling factors\n",
    "    scaling_factors = []\n",
    "    for median in list(df_log.median()):\n",
    "        scaling_factors.append(math.exp(median))\n",
    "    \n",
    "    #Divide each column by the scaling factor\n",
    "    for i, col in enumerate(df.columns):\n",
    "        sf = scaling_factors[i]\n",
    "        df[col] = df[col]/sf\n",
    "        \n",
    "    #remove where there is no expression\n",
    "    #df = df[df.index.isin(df_log.index)]\n",
    "    \n",
    "    return df\n",
    "\n",
    "# returns color of line for LN, Spleen or Human\n",
    "def line_color(column):\n",
    "    if ' ' in column and 'Spleen' in column:\n",
    "        return (0.00784313725490196, 0.24313725490196078, 1.0)\n",
    "        #return '#3333FF'\n",
    "    elif ' ' in column and 'Spleen' not in column:\n",
    "        return 'gray'\n",
    "    else:\n",
    "        return '#5d5e60'\n",
    "\n",
    "# CDR3 Length Graph\n",
    "def cdr3_length_histogram(df, color_dict, line_dict, text_dict, figfile=None, figsize=(6.5, 4),\n",
    "                          style='white', legend_location='upper right',\n",
    "                          shade=False, shade_alpha=0.1, legend=True,\n",
    "                          ylim=(0, 0.16), xlim=(0, 40),\n",
    "                          label_fontsize=16, tick_fontsize=12, legend_fontsize=10):\n",
    "    #get subjects\n",
    "    subjects = list(df.columns)\n",
    "    \n",
    "    # initialize the plot\n",
    "    sns.set_style(style)    \n",
    "    plt.figure(figsize=figsize)\n",
    "    \n",
    "    # plot the data\n",
    "    for subject in subjects:\n",
    "        color = color_dict[subject]\n",
    "        text_height = text_dict[subject]\n",
    "        line_height = line_dict[subject]\n",
    "        xs = df.index.values\n",
    "        ys = df[subject]\n",
    "        average_len = mean_from_agg(xs, ys)\n",
    "        plt.plot(xs, ys, c=color, alpha=1, linewidth=2.5, label=subject)\n",
    "        #, linestyle='--', dashes=(5, 2)\n",
    "        if shade:\n",
    "            shade_lower = [0] * len(xs)\n",
    "            plt.fill_between(x=list(xs), y1=list(shade_lower), y2=list(ys.values), color=color, alpha=0.2)\n",
    "        plt.axvline(x=average_len, ymin=0, ymax=line_height, color=color, linestyle='dotted')\n",
    "            # style the plot\n",
    "        ax = plt.gca()\n",
    "        ax.text(average_len + 0.03,\n",
    "                text_height,\n",
    "                'Mean: {}'.format(round(average_len, 1)),\n",
    "                color=color,\n",
    "                fontsize=12,\n",
    "                horizontalalignment='left')\n",
    "\n",
    "\n",
    "    # set axis limits and labels\n",
    "    ax.set_xlim(xlim)\n",
    "    ax.set_ylim(ylim)\n",
    "    ax.set_ylabel('Frequency', fontsize=label_fontsize, labelpad=6)\n",
    "    ax.set_xlabel('CDR3 length (AA)', fontsize=label_fontsize)\n",
    "    # style ticks\n",
    "    locs = ax.get_yticks()\n",
    "    ax.set_yticks(np.arange(0, 0.2, 0.02))\n",
    "    ax.set_xticks(np.arange(0, 35, 5))\n",
    "    ax.tick_params(axis='x', which='major', labelsize=tick_fontsize)\n",
    "    ax.tick_params(axis='y', which='major', labelsize=tick_fontsize, length=6, width=1.25, pad=6, right=False)\n",
    "    # hide top, left and right spines\n",
    "    ax.spines['top'].set_visible(False)\n",
    "    ax.spines['right'].set_visible(False)\n",
    "    ax.spines['left'].set_visible(False)\n",
    "    # configure the legend\n",
    "    if legend:\n",
    "        all_colors = [(0.00784313725490196, 0.24313725490196078, 1.0), '#696969']\n",
    "        handles = [plt.Line2D([0,0], [0,0], color=c, marker='o', linestyle='', alpha=1) for c in all_colors]\n",
    "        labels = ['OmniRat', 'Human']\n",
    "        ax.legend(handles, labels, loc=legend_location, fontsize=10, \n",
    "                  frameon=False, handletextpad=-.1, markerscale=0.75, bbox_to_anchor=(1.1, 1.05))\n",
    "    \n",
    "    # save or show\n",
    "    if figfile is not None:\n",
    "        plt.tight_layout()\n",
    "        plt.savefig(figfile, dpi=800)\n",
    "    else:\n",
    "        plt.show()\n",
    "        \n",
    "# N Length Graph\n",
    "def n_length_histogram(df, color_dict, line_dict, text_dict, figfile=None, figsize=(6.5, 4),\n",
    "                          style='white', legend_location='upper right',\n",
    "                          shade=False, shade_alpha=0.1, legend=True,\n",
    "                          ylim=(0, 0.16), xlim=(0, 40), xlab = '',\n",
    "                          label_fontsize=16, tick_fontsize=12, legend_fontsize=10):\n",
    "    #get subjects\n",
    "    subjects = list(df.columns)\n",
    "    \n",
    "    # initialize the plot\n",
    "    sns.set_style(style)    \n",
    "    plt.figure(figsize=figsize)\n",
    "    \n",
    "    # plot the data\n",
    "    for subject in subjects:\n",
    "        color = color_dict[subject]\n",
    "        text_height = text_dict[subject]\n",
    "        line_height = line_dict[subject]\n",
    "        xs = df.index.values\n",
    "        ys = df[subject]\n",
    "        average_len = mean_from_agg(xs, ys)\n",
    "        plt.plot(xs, ys, c=color, alpha=1, linewidth=2.5, label=subject)\n",
    "        if shade:\n",
    "            shade_lower = [0] * len(xs)\n",
    "            plt.fill_between(x=list(xs), y1=list(shade_lower), y2=list(ys.values), color=color, alpha=0.2)\n",
    "        \n",
    "        plt.axvline(x=average_len, ymin=0, ymax=line_height, color=color, linestyle='dotted')\n",
    "        # style the plot\n",
    "        ax = plt.gca()\n",
    "        ax.text(average_len + 0.03,\n",
    "                text_height,\n",
    "                'Mean: {}'.format(round(average_len, 1)),\n",
    "                color=color,\n",
    "                fontsize=12,\n",
    "                horizontalalignment='left')\n",
    "    \n",
    "    # style the plot\n",
    "    # set axis limits and labels\n",
    "    ax.set_xlim(xlim)\n",
    "    ax.set_ylim(ylim)\n",
    "    ax.set_ylabel('Frequency', fontsize=label_fontsize, labelpad=6)\n",
    "    ax.set_xlabel(xlab, fontsize=label_fontsize)\n",
    "    # style ticks\n",
    "    locs = ax.get_yticks()\n",
    "    ax.set_yticks(np.arange(0, 0.44, 0.04))\n",
    "    ax.set_xticks(np.arange(0, 30, 5))\n",
    "    ax.tick_params(axis='x', which='major', labelsize=tick_fontsize)\n",
    "    ax.tick_params(axis='y', which='major', labelsize=tick_fontsize, length=6, width=1.25, pad=6, right=False)\n",
    "    # hide top, left and right spines\n",
    "    ax.spines['top'].set_visible(False)\n",
    "    ax.spines['right'].set_visible(False)\n",
    "    ax.spines['left'].set_visible(False)\n",
    "    # configure the legend\n",
    "    if legend:\n",
    "        all_colors = [(0.00784313725490196, 0.24313725490196078, 1.0), '#696969']\n",
    "        handles = [plt.Line2D([0,0], [0,0], color=c, marker='o', linestyle='', alpha=1) for c in all_colors]\n",
    "        labels = ['OmniRat', 'Human']\n",
    "        ax.legend(handles, labels, loc=legend_location, fontsize=15, \n",
    "                  frameon=False, handletextpad=-.1, markerscale=1.25)\n",
    "    \n",
    "    # save or show\n",
    "    if figfile is not None:\n",
    "        plt.tight_layout()\n",
    "        plt.savefig(figfile, dpi=800)\n",
    "    else:\n",
    "        plt.show()\n",
    "        \n",
    "def mean_from_agg(values, freqs):\n",
    "    values = np.array(values)\n",
    "    freqs = np.array(freqs)\n",
    "    arg_sorted = np.argsort(values)\n",
    "    values = values[arg_sorted]\n",
    "    freqs = freqs[arg_sorted]\n",
    "    count = freqs.sum()\n",
    "    fx = values * freqs\n",
    "    mean = fx.sum() / count\n",
    "    return mean"
   ]
  },
  {
   "cell_type": "markdown",
   "metadata": {},
   "source": [
    "## CDRH3 length distribution \n",
    "\n",
    "To examine the differences in CDRH3 length distributions between the two species we calculate the average distribution for each repertoire (Omnirat LN, Omnirat Spleen and Human PBMCs) and plot it with a line graph."
   ]
  },
  {
   "cell_type": "code",
   "execution_count": 25,
   "metadata": {},
   "outputs": [
    {
     "name": "stderr",
     "output_type": "stream",
     "text": [
      "/gpfs/ims/home/cjoyce/tools/anaconda3/lib/python3.6/site-packages/ipykernel_launcher.py:2: FutureWarning: from_csv is deprecated. Please use read_csv(...) instead. Note that some of the default arguments are different, so please refer to the documentation for from_csv when changing your function calls\n",
      "  \n"
     ]
    }
   ],
   "source": [
    "# Load the OmniRat CDR3 lengths read counts\n",
    "rat_df = pd.DataFrame.from_csv('../Data/omnirat_cdrh3_lengths.csv')\n",
    "\n",
    "# load human CDRH3 lengths read counts from the Great Repertoire Project (Briney et al., 2019)\n",
    "with open('../Data/human_cdrh3_lengths.txt') as f:\n",
    "    cdr3_data = f.read().split('#')[1:]\n",
    "data = {}\n",
    "for d in cdr3_data:\n",
    "    subject = d.split('\\n')[0].strip()\n",
    "    data[subject] = {}\n",
    "    for line in d.split('\\n')[1:]:\n",
    "        l = line.strip().split()\n",
    "        if l:\n",
    "            muts, count = float(l[0]), float(l[1])\n",
    "            data[subject][muts] = count\n",
    "\n",
    "# Convert to a DataFrame and normalize\n",
    "human_df = pd.DataFrame(data).fillna(0)\n",
    "\n",
    "\n",
    "# Combine rat and human DFs\n",
    "rat_and_human_df = human_df.join(rat_df).fillna(0)\n",
    "\n",
    "# Scale and normalize the data\n",
    "norm_cdrh3_df = rat_and_human_df #scale_and_normalize(rat_and_human_df)\n",
    "\n",
    "# Make a new dataframe which has CDRH3 length distribution averages across all of the timepoints\n",
    "average_cdrh3_df = pd.DataFrame()\n",
    "#average_cdrh3_df['OmniRat LN'] = xdf['OR1 LN'] + xdf['OR2 LN'] + xdf['OR3 LN']\n",
    "average_cdrh3_df['OmniRat Spleen'] = norm_cdrh3_df['OR1 Spleen'] + norm_cdrh3_df['OR2 Spleen'] + norm_cdrh3_df['OR3 Spleen']\n",
    "average_cdrh3_df['Human'] = norm_cdrh3_df['D103'] + norm_cdrh3_df['327059'] + norm_cdrh3_df['326907'] + norm_cdrh3_df['326797'] + norm_cdrh3_df['326780'] + norm_cdrh3_df['316188']+ norm_cdrh3_df['326737']+ norm_cdrh3_df['326713']+ norm_cdrh3_df['326651']+ norm_cdrh3_df['326650']\n",
    "\n",
    "# Calculate the frequencies for each length\n",
    "norm_average_cdrh3_df = average_cdrh3_df / average_cdrh3_df.sum()"
   ]
  },
  {
   "cell_type": "code",
   "execution_count": 26,
   "metadata": {},
   "outputs": [],
   "source": [
    "# Make a color dictionary to color the graph by the repertoire\n",
    "colors = [line_color(c) for c in norm_average_cdrh3_df.columns]\n",
    "color_dict = {s:c for s, c in zip(norm_average_cdrh3_df.columns, colors)}\n",
    "cdr3_text_dict = {'Human': 0.14, \n",
    "             'OmniRat Spleen': 0.17}\n",
    "cdr3_line_dict = {'Human': 0.777, \n",
    "             'OmniRat Spleen': 0.95}"
   ]
  },
  {
   "cell_type": "code",
   "execution_count": 28,
   "metadata": {},
   "outputs": [
    {
     "data": {
      "image/png": "[encoded data removed]",
      "text/plain": [
       "<Figure size 324x248.4 with 1 Axes>"
      ]
     },
     "metadata": {},
     "output_type": "display_data"
    }
   ],
   "source": [
    "#Plot\n",
    "cdr3_length_histogram(norm_average_cdrh3_df, color_dict, cdr3_line_dict, cdr3_text_dict,\n",
    "                      ylim=(0, .18), xlim=(0, 30.99),\n",
    "                      shade=True, figsize=(4.5, 3.45),\n",
    "                      legend=False, style='white',\n",
    "                      figfile='./figures/figure2a'\n",
    "                     )"
   ]
  },
  {
   "cell_type": "markdown",
   "metadata": {},
   "source": [
    "## N1 length distribution \n",
    "\n",
    "To examine the differences in N1 length distributions between the two species we calculate the average distribution for each repertoire (OmniRat and Human) and plot it with a line graph."
   ]
  },
  {
   "cell_type": "code",
   "execution_count": 6,
   "metadata": {},
   "outputs": [
    {
     "name": "stderr",
     "output_type": "stream",
     "text": [
      "/gpfs/ims/home/cjoyce/tools/anaconda3/lib/python3.6/site-packages/ipykernel_launcher.py:10: RuntimeWarning: divide by zero encountered in log\n",
      "  # Remove the CWD from sys.path while we load stuff.\n"
     ]
    }
   ],
   "source": [
    "# Load the OmniRat Data\n",
    "rat_n1_df = pd.read_csv('../Data/omnirat_n1_reads.csv', index_col=0)\n",
    "\n",
    "# List the Human Data files\n",
    "human_dfs = [file for file in os.listdir('../Data/') if 'n1len.csv' in file]\n",
    "\n",
    "# Load the files into a dictionary \n",
    "human_n1_data = {}\n",
    "for file in human_dfs:\n",
    "    subject = file.split('_')[0]\n",
    "    df = pd.read_csv('../Data/' + file, index_col=0)\n",
    "    #df = df.drop(['-'])\n",
    "    df[subject] = df.sum(axis=1)\n",
    "    human_n1_data[subject] = df[subject]\n",
    "# and make a DataFrame\n",
    "human_n1_df = pd.DataFrame(human_n1_data).fillna(0)\n",
    "\n",
    "# Combine rat and human DFs\n",
    "rat_and_human_n1_df = human_n1_df.join(rat_n1_df).fillna(0)\n",
    "\n",
    "# Scale and normalize the data\n",
    "norm_n1_df = scale_and_normalize(rat_and_human_n1_df)\n",
    "\n",
    "# Make a new dataframe which has N1 length distribution averages across all of the timepoints\n",
    "average_n1_df = pd.DataFrame()\n",
    "#average_cdrh3_df['OmniRat LN'] = norm_n1_df['OR1 LN'] + norm_n1_df['OR2 LN'] + norm_n1_df['OR3 LN']\n",
    "average_n1_df['OmniRat Spleen'] = norm_n1_df['OR1 Spleen'] + norm_n1_df['OR2 Spleen'] + norm_n1_df['OR3 Spleen']\n",
    "average_n1_df['Human'] = norm_n1_df['D103'] + norm_n1_df['327059'] + norm_n1_df['326907'] + norm_n1_df['326797'] + norm_n1_df['326780'] + norm_n1_df['316188']+ norm_n1_df['326737']+ norm_n1_df['326713']+ norm_n1_df['326651']+ norm_n1_df['326650']\n",
    "\n",
    "# Calculate the frequencies for each length\n",
    "norm_average_n1_df = average_n1_df / average_n1_df.sum()"
   ]
  },
  {
   "cell_type": "code",
   "execution_count": 7,
   "metadata": {},
   "outputs": [],
   "source": [
    "vd_text_dict = {'Human': 0.12, \n",
    "             'OmniRat Spleen': 0.17}\n",
    "vd_line_dict = {'Human': 0.3, \n",
    "             'OmniRat Spleen': 0.425}"
   ]
  },
  {
   "cell_type": "code",
   "execution_count": 8,
   "metadata": {},
   "outputs": [
    {
     "data": {
      "image/png": "[encoded data removed]",
      "text/plain": [
       "<Figure size 324x248.4 with 1 Axes>"
      ]
     },
     "metadata": {},
     "output_type": "display_data"
    }
   ],
   "source": [
    "n_length_histogram(norm_average_n1_df, color_dict, vd_line_dict, vd_text_dict,\n",
    "                      ylim=(0, .4), xlim=(0, 25.99),\n",
    "                      shade=True, figsize=(4.5, 3.45),\n",
    "                      legend=False, style='white',\n",
    "                      xlab='VD Insertion Length (NT)', figfile='./figures/figure2b'\n",
    "                     )"
   ]
  },
  {
   "cell_type": "markdown",
   "metadata": {},
   "source": [
    "## N2 length distribution \n",
    "\n",
    "To examine the differences in N2 length distributions between the two species we calculate the average distribution for each repertoire (OmniRat and Human) and plot it with a line graph."
   ]
  },
  {
   "cell_type": "code",
   "execution_count": 9,
   "metadata": {},
   "outputs": [
    {
     "name": "stderr",
     "output_type": "stream",
     "text": [
      "/gpfs/ims/home/cjoyce/tools/anaconda3/lib/python3.6/site-packages/ipykernel_launcher.py:10: RuntimeWarning: divide by zero encountered in log\n",
      "  # Remove the CWD from sys.path while we load stuff.\n"
     ]
    }
   ],
   "source": [
    "# Load the OmniRat Data\n",
    "rat_n2_df = pd.read_csv('../Data/omnirat_n2_reads.csv', index_col=0)\n",
    "\n",
    "# List the Human Data files\n",
    "human_dfs = [file for file in os.listdir('../Data/') if 'n2len.csv' in file]\n",
    "\n",
    "# Load the files into a dictionary \n",
    "human_n2_data = {}\n",
    "for file in human_dfs:\n",
    "    subject = file.split('_')[0]\n",
    "    df = pd.read_csv('../Data/' + file, index_col=0)\n",
    "    #df = df.drop(['-'])\n",
    "    df[subject] = df.sum(axis=1)\n",
    "    human_n2_data[subject] = df[subject]\n",
    "# and make a DataFrame\n",
    "human_n2_df = pd.DataFrame(human_n2_data).fillna(0)\n",
    "\n",
    "# Combine rat and human DFs\n",
    "rat_and_human_n2_df = human_n2_df.join(rat_n2_df).fillna(0)\n",
    "\n",
    "# Scale and normalize the data\n",
    "norm_n2_df = scale_and_normalize(rat_and_human_n2_df)\n",
    "\n",
    "# Make a new dataframe which has N2 length distribution averages across all of the timepoints\n",
    "average_n2_df = pd.DataFrame()\n",
    "#average_cdrh3_df['OmniRat LN'] = norm_n2_df['OR1 LN'] + norm_n2_df['OR2 LN'] + norm_n2_df['OR3 LN']\n",
    "average_n2_df['OmniRat Spleen'] = norm_n2_df['OR1 Spleen'] + norm_n2_df['OR2 Spleen'] + norm_n2_df['OR3 Spleen']\n",
    "average_n2_df['Human'] = norm_n2_df['D103'] + norm_n2_df['327059'] + norm_n2_df['326907'] + norm_n2_df['326797'] + norm_n2_df['326780'] + norm_n2_df['316188']+ norm_n2_df['326737']+ norm_n2_df['326713']+ norm_n2_df['326651']+ norm_n2_df['326650']\n",
    "\n",
    "# Calculate the frequencies for each length\n",
    "norm_average_n2_df = average_n2_df / average_n2_df.sum()"
   ]
  },
  {
   "cell_type": "code",
   "execution_count": 10,
   "metadata": {},
   "outputs": [],
   "source": [
    "dj_text_dict = {'Human': 0.12, \n",
    "             'OmniRat Spleen': 0.17}\n",
    "dj_line_dict = {'Human': 0.3, \n",
    "             'OmniRat Spleen': 0.425}"
   ]
  },
  {
   "cell_type": "code",
   "execution_count": 14,
   "metadata": {},
   "outputs": [
    {
     "data": {
      "image/png": "[encoded data removed]",
      "text/plain": [
       "<Figure size 324x248.4 with 1 Axes>"
      ]
     },
     "metadata": {},
     "output_type": "display_data"
    }
   ],
   "source": [
    "n_length_histogram(norm_average_n2_df, color_dict, dj_line_dict, dj_text_dict,\n",
    "                      ylim=(0, .4), xlim=(0, 25.99),\n",
    "                      shade=True, figsize=(4.5, 3.45),\n",
    "                      legend=True, style='white',\n",
    "                      xlab='DJ Insertion Length (NT)', figfile='./figures/figure2c'\n",
    "                     )"
   ]
  },
  {
   "cell_type": "markdown",
   "metadata": {},
   "source": [
    "## D3- J6 frequencies\n",
    "To examine the difference in frequencies of antibodies with the D3-J6 gene combination (which is important in the generation of long CDRH3s) we plot a bar chart of the D3-J6 frequency differences between the two species."
   ]
  },
  {
   "cell_type": "code",
   "execution_count": 15,
   "metadata": {},
   "outputs": [],
   "source": [
    "# load the data\n",
    "omnirat_dj_df = pd.read_csv('../Data/omnirat_dj_reads.csv', index_col=0)\n",
    "human_dj_df = pd.read_csv('../Data/human_dj_reads.csv', index_col=0)\n",
    "\n",
    "# Combine the data\n",
    "dj_df = omnirat_dj_df.join(human_dj_df).fillna(0)\n",
    "\n",
    "# Normalization\n",
    "dj_df_norm = scale_and_normalize(dj_df)\n",
    "\n",
    "# Get the frequencies\n",
    "dj_df_freq = dj_df_norm / dj_df_norm.sum()"
   ]
  },
  {
   "cell_type": "code",
   "execution_count": 16,
   "metadata": {},
   "outputs": [],
   "source": [
    "#Make a new DataFrame with only D3-J6 Frequencies\n",
    "dj_fig_data = []\n",
    "for subject in dj_df_freq.columns:\n",
    "    if 'OR' in subject:\n",
    "        species = 'OmniRat'\n",
    "    else:\n",
    "        species = 'Human'\n",
    "    dj_fig_data.append({'Species': species, 'Frequency': dj_df_freq[subject]['IGHD3_IGHJ6'], 'Subject': subject})\n",
    "\n",
    "dj_fig_df = pd.DataFrame(dj_fig_data)"
   ]
  },
  {
   "cell_type": "code",
   "execution_count": 17,
   "metadata": {},
   "outputs": [
    {
     "data": {
      "image/png": "[encoded data removed]",
      "text/plain": [
       "<Figure size 216x324 with 1 Axes>"
      ]
     },
     "metadata": {},
     "output_type": "display_data"
    }
   ],
   "source": [
    "#Plot\n",
    "plt.figure(figsize=(3,4.5))\n",
    "ax = sns.barplot(data=dj_fig_df, x='Species', y='Frequency', palette=['#CCD8FF', '#DEDEDF'],\n",
    "                 linewidth=2.5, edgecolor=[(0.00784313725490196, 0.24313725490196078, 1.0), '#5d5e60'], capsize=.2)\n",
    "ax.spines['top'].set_visible(False)\n",
    "ax.spines['right'].set_visible(False)\n",
    "ax.spines['left'].set_visible(False)\n",
    "#sns.stripplot(data=dj_fig_df, x='Species', y='Frequency')\n",
    "ax.set_ylim(0.0,0.038)\n",
    "#ax.set_yticks(np.arange(0, 0.05, 0.01))\n",
    "ax.set(xticklabels=[''])\n",
    "ax.set_ylabel('Frequency', fontsize=16, labelpad=6)\n",
    "ax.set_xlabel('D3-J6 Usage', fontsize=16)\n",
    "#ax.tick_params(axis='x', which='major', labelsize=tick_fontsize)\n",
    "ax.tick_params(axis='y', which='major', labelsize=12, length=6, width=1.25, pad=6, right=False)\n",
    "plt.tight_layout()\n",
    "plt.savefig('./figures/figure2d', dpi=800)\n",
    "\n",
    "plt.show()"
   ]
  },
  {
   "cell_type": "markdown",
   "metadata": {},
   "source": [
    "## Native D gene lengths\n",
    "To examine the differences in average lengths of the D genes from wild-type species (*Rattus norvegicus*, and *Homo sapiens*) we calculate the average length of D genes for each species from data found at [**imgt.org/genedb**](http://www.imgt.org/genedb/)."
   ]
  },
  {
   "cell_type": "code",
   "execution_count": 18,
   "metadata": {},
   "outputs": [],
   "source": [
    "# Read the fasta files from IMGT for each species\n",
    "\n",
    "d_gene_lens = []\n",
    "\n",
    "# human\n",
    "for record in SeqIO.parse(\"../Data/human_dgenes.fasta\", \"fasta\"):\n",
    "    d_gene_lens.append({'Species': 'Human', 'D Gene Length (NT)': len(record.seq), \n",
    "                           'Family': record.id.split('IGHD')[1].split('-')[0]})\n",
    "# rat\n",
    "for record in SeqIO.parse(\"../Data/rat_dgenes.fasta\", \"fasta\"):\n",
    "    d_gene_lens.append({'Species': 'Rat', 'D Gene Length (NT)': len(record.seq), \n",
    "                           'Family': record.id.split('IGHD')[1].split('-')[0]})\n",
    "# Make a DataFrame\n",
    "d_gene_lens_df = pd.DataFrame(d_gene_lens)"
   ]
  },
  {
   "cell_type": "code",
   "execution_count": 19,
   "metadata": {},
   "outputs": [
    {
     "data": {
      "image/png": "[encoded data removed]",
      "text/plain": [
       "<Figure size 200x324 with 1 Axes>"
      ]
     },
     "metadata": {},
     "output_type": "display_data"
    }
   ],
   "source": [
    "\n",
    "#Plot\n",
    "plt.figure(figsize=(2.77777778,4.5))\n",
    "ax = sns.barplot(data=d_gene_lens_df, x='Species', y='D Gene Length (NT)', palette=['#CCD8FF', '#DEDEDF'],\n",
    "                 linewidth=2.5, edgecolor=[(0.00784313725490196, 0.24313725490196078, 1.0), '#5d5e60'], \n",
    "                 capsize=.2, order=['Rat', 'Human'])\n",
    "ax.spines['top'].set_visible(False)\n",
    "ax.spines['right'].set_visible(False)\n",
    "ax.spines['left'].set_visible(False)\n",
    "#sns.stripplot(data=dj_fig_df, x='Species', y='Frequency')\n",
    "ax.set_ylim(16,28)\n",
    "ax.set_yticks(np.arange(0, 35, 5))\n",
    "ax.set(xticklabels=[''])\n",
    "ax.set_ylabel('Length (NT)', fontsize=16, labelpad=6)\n",
    "ax.set_xlabel('Native D Gene', fontsize=16)\n",
    "#ax.tick_params(axis='x', which='major', labelsize=tick_fontsize)\n",
    "ax.tick_params(axis='y', which='major', labelsize=12, length=6, width=1.25, pad=6, right=False)\n",
    "plt.tight_layout()\n",
    "#plt.savefig('./figures/figure2e', dpi=800)\n",
    "plt.show()"
   ]
  },
  {
   "cell_type": "markdown",
   "metadata": {},
   "source": [
    "## Frequency of given CDRH3 length or longer\n",
    "To examine the difference in long CDRH3 usage."
   ]
  },
  {
   "cell_type": "code",
   "execution_count": 20,
   "metadata": {},
   "outputs": [
    {
     "name": "stderr",
     "output_type": "stream",
     "text": [
      "/gpfs/ims/home/cjoyce/tools/anaconda3/lib/python3.6/site-packages/ipykernel_launcher.py:11: FutureWarning: \n",
      "Passing list-likes to .loc or [] with any missing label will raise\n",
      "KeyError in the future, you can use .reindex() as an alternative.\n",
      "\n",
      "See the documentation here:\n",
      "http://pandas.pydata.org/pandas-docs/stable/indexing.html#deprecate-loc-reindex-listlike\n",
      "  # This is added back by InteractiveShellApp.init_path()\n"
     ]
    }
   ],
   "source": [
    "minval = 0.000001\n",
    "\n",
    "dfs = {'Human': human_df / human_df.sum().fillna(0),\n",
    "       'OmniRat': rat_df/ rat_df.sum().fillna(0),}\n",
    "\n",
    "data = []\n",
    "for length in [20, 25, 30]:\n",
    "    for species in dfs.keys():\n",
    "        df = dfs[species]\n",
    "        try:\n",
    "            d = df.loc[range(length, 50)].sum()\n",
    "        except KeyError:\n",
    "            d = [0.0] * len(df.columns.values)\n",
    "        for val in list(d):\n",
    "            data.append({'x': length, 'y': val, 'species': species})\n",
    "\n",
    "data_df = pd.DataFrame(data).replace(0.0, minval)"
   ]
  },
  {
   "cell_type": "code",
   "execution_count": 21,
   "metadata": {},
   "outputs": [],
   "source": [
    "color_dict = {s: c for s, c in zip(['Human', 'OmniRat'], ['#5d5e60', (0.00784313725490196, 0.24313725490196078, 1.0)])}\n",
    "edgecolors = [color_dict[sp] for sp in data_df['species']]\n",
    "mean_lengths = {20: 0,\n",
    "                25: 1,\n",
    "                30: 2.0}"
   ]
  },
  {
   "cell_type": "code",
   "execution_count": 23,
   "metadata": {},
   "outputs": [
    {
     "data": {
      "image/png": "[encoded data removed]",
      "text/plain": [
       "<Figure size 234x324 with 1 Axes>"
      ]
     },
     "metadata": {},
     "output_type": "display_data"
    }
   ],
   "source": [
    "sns.set_style(\"ticks\")\n",
    "fig = plt.figure(figsize=[3.25, 4.5])\n",
    "\n",
    "sns.stripplot(x=\"x\", y=\"y\", hue='species', data=data_df, jitter=True, size=8, \n",
    "              palette=['#DEDEDF', '#CCD8FF'],\n",
    "              edgecolor=edgecolors, \n",
    "              linewidth=1)\n",
    "#plt.plot([-40, 40], [minval, minval], 'k:', alpha=0.6)\n",
    "\n",
    "# plt.text(-0.45, 1.2 * minval, 'detection limit', ha='left', alpha=0.6)\n",
    "\n",
    "for length in [30]:\n",
    "    for species in ['Human', 'OmniRat']:\n",
    "        mean_y = data_df[(data_df.species == species) & (data_df.x == length)]['y'].mean()\n",
    "        plt.plot([-0.5, mean_lengths[length]], [mean_y, mean_y], c=color_dict[species], ls=':', lw=0.5)\n",
    "        one_in = \"{:,}\".format(int(1 / mean_y))\n",
    "        plt.text(x=-0.45, y=1.2 * mean_y, s='1 in {}'.format(one_in), color=color_dict[species], size=12, zorder=10)\n",
    "    \n",
    "ax = plt.gca()\n",
    "\n",
    "ax.set_xlabel('CDR3 length (AA)', fontsize=16)\n",
    "ax.set_ylabel('Frequency (CDR3 length or longer)', fontsize=16, labelpad=6)\n",
    "ax.get_legend().remove()\n",
    "\n",
    "\n",
    "ax.set_yscale(\"log\", nonposy='clip')\n",
    "ax.set_ylim([0.8 * minval, 0.3])\n",
    "\n",
    "ax.tick_params(axis='both', which='major', labelsize=12)\n",
    "\n",
    "\n",
    "ax.spines['top'].set_visible(False)\n",
    "ax.spines['right'].set_visible(False)\n",
    "ax.spines['left'].set_visible(False)\n",
    "\n",
    "\n",
    "\n",
    "plt.tight_layout()\n",
    "\n",
    "plt.savefig('./figures/figure2f.png', dpi=800)\n",
    "\n",
    "plt.show()"
   ]
  }
 ],
 "metadata": {
  "kernelspec": {
   "display_name": "Python 3",
   "language": "python",
   "name": "python3"
  },
  "language_info": {
   "codemirror_mode": {
    "name": "ipython",
    "version": 3
   },
   "file_extension": ".py",
   "mimetype": "text/x-python",
   "name": "python",
   "nbconvert_exporter": "python",
   "pygments_lexer": "ipython3",
   "version": "3.6.4"
  }
 },
 "nbformat": 4,
 "nbformat_minor": 2
}
